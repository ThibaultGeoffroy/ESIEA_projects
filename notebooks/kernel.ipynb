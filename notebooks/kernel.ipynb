{
 "cells": [
  {
   "cell_type": "code",
   "execution_count": null,
   "metadata": {
    "_uuid": "8f2839f25d086af736a60e9eeb907d3b93b6e0e5",
    "_cell_guid": "b1076dfc-b9ad-4769-8c92-a6c4dae69d19",
    "trusted": true
   },
   "outputs": [],
   "source": [
    "# This Python 3 environment comes with many helpful analytics libraries installed\n",
    "# It is defined by the kaggle/python docker image: https://github.com/kaggle/docker-python\n",
    "# For example, here's several helpful packages to load in \n",
    "\n",
    "import pandas as pd\n",
    "import numpy as np\n",
    "import statsmodels as sm\n",
    "import sklearn as skl\n",
    "import sklearn.preprocessing as preprocessing\n",
    "import sklearn.linear_model as linear_model\n",
    "import sklearn.cross_validation as cross_validation\n",
    "import sklearn.metrics as metrics\n",
    "import sklearn.tree as tree\n",
    "import seaborn as sns\n",
    "import matplotlib.pyplot as plt\n",
    "from math import *\n",
    "from scipy.stats import normaltest\n",
    "\n",
    "# Input data files are available in the \"../input/\" directory.\n",
    "# For example, running this (by clicking run or pressing Shift+Enter) will list the files in the input directory\n",
    "\n",
    "import os\n",
    "print(os.listdir(\"../input\"))\n",
    "\n",
    "# Any results you write to the current directory are saved as output."
   ]
  },
  {
   "cell_type": "markdown",
   "metadata": {
    "_cell_guid": "79c7e3d0-c299-4dcb-8224-4455121ee9b0",
    "collapsed": true,
    "_uuid": "d629ff2d2480ee46fbb7e2d37f6b5fab8052498a",
    "trusted": false
   },
   "source": [
    "# LOAD DATA"
   ]
  },
  {
   "cell_type": "code",
   "execution_count": null,
   "metadata": {
    "trusted": true,
    "_uuid": "cb529dec5a4023278d300124c33eef31934828c3"
   },
   "outputs": [],
   "source": [
    "data = pd.read_csv(\"../input/adult.data\", \n",
    "    names=[\"Age\", \"Workclass\", \"fnlwgt\", \"Education\", \"Education-Num\", \"Martial Status\", \"Occupation\", \"Relationship\", \"Race\", \"Sex\", \"Capital Gain\", \"Capital Loss\", \"Hours per week\", \"Country\", \"Target\"],\n",
    "    sep=r'\\s*,\\s*',\n",
    "    engine='python',\n",
    "    na_values=\"?\")\n",
    "\n",
    "print(data.tail())"
   ]
  },
  {
   "cell_type": "markdown",
   "metadata": {
    "_uuid": "71e626f42d0c05ed03a3572390248841a340c036"
   },
   "source": [
    "# ANALYSE DATA"
   ]
  },
  {
   "cell_type": "code",
   "execution_count": null,
   "metadata": {
    "trusted": true,
    "_uuid": "6a55fc77b7227c9008b84499321a80e6c6b336e5"
   },
   "outputs": [],
   "source": [
    "data.info()"
   ]
  },
  {
   "cell_type": "markdown",
   "metadata": {
    "_uuid": "1cddb7ab6860aacb3996b8f54ff6bcc509151c6a"
   },
   "source": [
    "On observe des données manquate sont présentes dans les variables \"Workclass\", \"Occupation\" et \"Country\"."
   ]
  },
  {
   "cell_type": "code",
   "execution_count": null,
   "metadata": {
    "trusted": true,
    "_uuid": "dacb6ce8870e97fffb0e83f4ce7b177813a090d2"
   },
   "outputs": [],
   "source": [
    "fig = plt.figure(figsize=(20,15))\n",
    "cols = 5\n",
    "rows = ceil(float(data.shape[1]) / cols)\n",
    "for i, column in enumerate(data.columns):\n",
    "    ax = fig.add_subplot(rows, cols, i + 1)\n",
    "    ax.set_title(column)\n",
    "    if data.dtypes[column] == np.object:\n",
    "        data[column].value_counts().plot(kind=\"bar\", axes=ax)\n",
    "    else:\n",
    "        data[column].hist(axes=ax)\n",
    "        plt.xticks(rotation=\"vertical\")\n",
    "plt.subplots_adjust(hspace=0.7, wspace=0.2)"
   ]
  },
  {
   "cell_type": "markdown",
   "metadata": {
    "_uuid": "b11545295fb93010063cd257c2c862cb5b330b59"
   },
   "source": [
    "# CONVERT ALL VAR QUALI TO  VAR QUANTI"
   ]
  },
  {
   "cell_type": "code",
   "execution_count": null,
   "metadata": {
    "trusted": true,
    "_uuid": "6f67939da4d39ef6dc0ba198218570898e5dd5ff"
   },
   "outputs": [],
   "source": [
    "data.dropna()"
   ]
  },
  {
   "cell_type": "code",
   "execution_count": null,
   "metadata": {
    "trusted": true,
    "_uuid": "76be2eda1ce4225b9d72e65d4f92f99eae3bb3e2"
   },
   "outputs": [],
   "source": [
    "for i, column in enumerate(data[['Workclass', 'Education', 'Martial Status', 'Occupation', 'Relationship', 'Race',\n",
    "                                 'Sex', 'Country', 'Target']].columns):\n",
    "    l = list(set(data[column]))\n",
    "    data[column] = data[column].map(lambda x: l.index(x))"
   ]
  },
  {
   "cell_type": "code",
   "execution_count": null,
   "metadata": {
    "trusted": true,
    "_uuid": "a145b827f328ae910b06414eb73fea24d6a7e246"
   },
   "outputs": [],
   "source": [
    "print(data.head())"
   ]
  },
  {
   "cell_type": "markdown",
   "metadata": {
    "_uuid": "fb0d1ff3665d2ee9f02ea1837f78e40eeaa80fd7"
   },
   "source": [
    "### Matrice des correlations"
   ]
  },
  {
   "cell_type": "code",
   "execution_count": null,
   "metadata": {
    "trusted": true,
    "_uuid": "d4cc52f0042267750b8c0a122b86f817e08542b4"
   },
   "outputs": [],
   "source": [
    "hmap = data.corr()\n",
    "plt.subplots(figsize=(12, 9))\n",
    "sns.heatmap(hmap, vmax=.8,annot=True,cmap=\"seismic\", square=True);"
   ]
  },
  {
   "cell_type": "markdown",
   "metadata": {
    "_uuid": "64d5d3f3972bae44b4a2aa73ecb0344be302099c"
   },
   "source": [
    "# SPLIT DATASET"
   ]
  },
  {
   "cell_type": "code",
   "execution_count": null,
   "metadata": {
    "trusted": true,
    "_uuid": "c9641f20b77eeb355471480f230fb38e4d1a86ba"
   },
   "outputs": [],
   "source": [
    "from sklearn import tree\n",
    "from sklearn.model_selection import train_test_split\n",
    "from sklearn import metrics\n",
    "\n",
    "\n",
    "X=data.drop('Target', axis=1).values\n",
    "y= data[['Target']].values\n",
    "\n",
    "X_train, X_test, y_train, y_test = train_test_split(X ,y, test_size=0.3, random_state=21, stratify=y)"
   ]
  },
  {
   "cell_type": "markdown",
   "metadata": {
    "_uuid": "dc348caac082c8859ae37d74b5dbeb60ebc8c85a"
   },
   "source": [
    "# KNN"
   ]
  },
  {
   "cell_type": "code",
   "execution_count": null,
   "metadata": {
    "trusted": true,
    "_uuid": "7a9c26671c5808bf8fa207518933760ec35e4aeb"
   },
   "outputs": [],
   "source": [
    "#Tuning the model\n",
    "from sklearn.neighbors import KNeighborsClassifier\n",
    "from sklearn.model_selection import GridSearchCV\n",
    "\n",
    "param_grid= {'n_neighbors': np.arange(1,80)}\n",
    "knn = KNeighborsClassifier()\n",
    "knn_cv=GridSearchCV(knn, param_grid, cv=5)\n",
    "y = y.reshape(32561,)\n",
    "knn_cv.fit(X, y)\n",
    "print(knn_cv.best_params_)\n",
    "print(knn_cv.best_score_)"
   ]
  },
  {
   "cell_type": "code",
   "execution_count": null,
   "metadata": {
    "trusted": true,
    "_uuid": "893869d1bfad2137de43a5d3adde17c45700377e"
   },
   "outputs": [],
   "source": [
    "#KNN\n",
    "model=KNeighborsClassifier(n_neighbors=78) \n",
    "model.fit(X_train,y_train)\n",
    "prediction=model.predict(X_test)\n",
    "print('The accuracy of the KNN is',metrics.accuracy_score(prediction,y_test))"
   ]
  },
  {
   "cell_type": "code",
   "execution_count": null,
   "metadata": {
    "trusted": true,
    "_uuid": "dfa983f99e6ff4e7281ff1986175eaf1cc055a52"
   },
   "outputs": [],
   "source": [
    "from xgboost import XGBClassifier\n",
    "\n",
    "X2=df[['education.num','age','hours.per.week', 'capital.gain']].values\n",
    "y2= df[['income']].values\n",
    "\n",
    "X2_train, X2_test, y2_train, y2_test = train_test_split(X2 ,y2, test_size=0.3, random_state=21, stratify=y)\n",
    "\n",
    "# fit model no training data\n",
    "xgbc = XGBClassifier()\n",
    "xgbc.fit(X2_train, y2_train)\n",
    "prediction2=xgbc.predict(X2_test)\n",
    "print('The accuracy of the xGB is',metrics.accuracy_score(prediction2,y2_test))"
   ]
  },
  {
   "cell_type": "markdown",
   "metadata": {
    "_uuid": "7c160cae7f7a3ddb0216f19e29ac66d969332202"
   },
   "source": [
    "# DECISION TREE"
   ]
  },
  {
   "cell_type": "code",
   "execution_count": null,
   "metadata": {
    "trusted": true,
    "_uuid": "90611fdba5be2aac8d59e2f429805a304f3e53ea"
   },
   "outputs": [],
   "source": [
    "#SETTING UP DECISSION TREES\n",
    "\n",
    "clf = tree.DecisionTreeClassifier()\n",
    "clf.fit(X_train, y_train)\n",
    "predn=clf.predict(X_test)\n",
    "print('The accuracy of the model is',metrics.accuracy_score(predn,y_test))"
   ]
  },
  {
   "cell_type": "markdown",
   "metadata": {
    "_uuid": "a431c9910ffa0d3dc54a3fa754b7bdb5975e74ef"
   },
   "source": [
    "# SVM"
   ]
  },
  {
   "cell_type": "code",
   "execution_count": null,
   "metadata": {
    "trusted": true,
    "_uuid": "6f18a2c5a5dd161bfd904fdfe8ab4e6da22c45e0"
   },
   "outputs": [],
   "source": [
    "#SVM\n",
    "from sklearn import svm\n",
    "svc = svm.SVC(kernel='linear')\n",
    "svc.fit(X_train, y_train)\n",
    "y_pred=svc.predict(X_test)\n",
    "\n",
    "print(\"Test set predictions:\\n {}\".format(y_pred))\n",
    "print(svc.score(X_test,y_test))"
   ]
  },
  {
   "cell_type": "code",
   "execution_count": null,
   "metadata": {
    "trusted": true,
    "_uuid": "ad91d4036ec84c45c40a969d2ab705b9b0714e19"
   },
   "outputs": [],
   "source": [
    ""
   ]
  }
 ],
 "metadata": {
  "kernelspec": {
   "display_name": "Python 3",
   "language": "python",
   "name": "python3"
  },
  "language_info": {
   "name": "python",
   "version": "3.6.6",
   "mimetype": "text/x-python",
   "codemirror_mode": {
    "name": "ipython",
    "version": 3
   },
   "pygments_lexer": "ipython3",
   "nbconvert_exporter": "python",
   "file_extension": ".py"
  }
 },
 "nbformat": 4,
 "nbformat_minor": 1
}
